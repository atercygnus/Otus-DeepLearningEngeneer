{
 "cells": [
  {
   "cell_type": "code",
   "execution_count": 1,
   "metadata": {},
   "outputs": [],
   "source": [
    "import torch\n",
    "from torch import utils\n",
    "from torchvision import datasets, transforms\n",
    "\n",
    "import matplotlib\n",
    "import matplotlib.pyplot as plt\n",
    "import numpy as np\n",
    "%matplotlib inline\n",
    "\n",
    "import my_utils"
   ]
  },
  {
   "cell_type": "markdown",
   "metadata": {},
   "source": [
    "### Сделать свой transform, переводящий данные в распределение N(0, 1) и выложить код в Slack. Проверить код 3х коллег и отписаться в ветку к выложенному коду."
   ]
  },
  {
   "cell_type": "code",
   "execution_count": 2,
   "metadata": {},
   "outputs": [],
   "source": [
    "path='../data/MNIST_data'\n",
    "my_transform = transforms.Compose([transforms.ToTensor()])"
   ]
  },
  {
   "cell_type": "code",
   "execution_count": 3,
   "metadata": {},
   "outputs": [],
   "source": [
    "# Считаем данные без преобразования\n",
    "batch_x, batch_y = my_utils.read_dataset(my_transform, path, 60000)"
   ]
  },
  {
   "cell_type": "code",
   "execution_count": 4,
   "metadata": {},
   "outputs": [
    {
     "name": "stdout",
     "output_type": "stream",
     "text": [
      "Pixel mean is 0.13\n",
      "Pixel std is 0.31\n"
     ]
    }
   ],
   "source": [
    "# Рассчитаем среднее и стандартное отклонение\n",
    "pixel_mean = batch_x.view([-1]).numpy().mean()\n",
    "pixel_std = batch_x.view([-1]).numpy().std()\n",
    "\n",
    "print('Pixel mean is {:.2f}'.format(pixel_mean))\n",
    "print('Pixel std is {:.2f}'.format(pixel_std))"
   ]
  },
  {
   "cell_type": "code",
   "execution_count": 5,
   "metadata": {},
   "outputs": [],
   "source": [
    "# Считаем данные заново, сделав соответствующий трансформ\n",
    "batch_x, batch_y = my_utils.read_dataset(\n",
    "    transforms.Compose([\n",
    "        transforms.ToTensor(),   \n",
    "        transforms.Normalize((pixel_mean, ), (pixel_std, ))]),\n",
    "    path,\n",
    "    60000)"
   ]
  },
  {
   "cell_type": "code",
   "execution_count": 6,
   "metadata": {},
   "outputs": [
    {
     "name": "stdout",
     "output_type": "stream",
     "text": [
      "Pixel mean is -0.00\n",
      "Pixel std is 1.00\n"
     ]
    }
   ],
   "source": [
    "# После преобразования среднее данных - ноль, дисперсия - единица\n",
    "pixel_mean = batch_x.view([-1]).numpy().mean()\n",
    "pixel_std = batch_x.view([-1]).numpy().std()\n",
    "\n",
    "print('Pixel mean is {:.2f}'.format(pixel_mean))\n",
    "print('Pixel std is {:.2f}'.format(pixel_std))"
   ]
  },
  {
   "cell_type": "code",
   "execution_count": null,
   "metadata": {},
   "outputs": [],
   "source": []
  }
 ],
 "metadata": {
  "kernelspec": {
   "display_name": "Python 3",
   "language": "python",
   "name": "python3"
  },
  "language_info": {
   "codemirror_mode": {
    "name": "ipython",
    "version": 3
   },
   "file_extension": ".py",
   "mimetype": "text/x-python",
   "name": "python",
   "nbconvert_exporter": "python",
   "pygments_lexer": "ipython3",
   "version": "3.6.9"
  }
 },
 "nbformat": 4,
 "nbformat_minor": 2
}
